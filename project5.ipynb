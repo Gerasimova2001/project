{
 "cells": [
  {
   "cell_type": "markdown",
   "metadata": {},
   "source": [
    "### Постановка задачи\n",
    "Даны неповторяющиеся последовательности нуклеотидов (риды) длины l. Известно, что все подстроки генома длины l входят в данное множество ридов. Построить возможный геном."
   ]
  },
  {
   "cell_type": "markdown",
   "metadata": {},
   "source": [
    "#### Пояснение\n",
    "Геном (как и его части − риды) является словом из 4-символьного алфавита {A,G,C,T}, где символы так же называются нуклеотидами. В реальности длины ридов находятся обычно в диапазоне 100-1000 нуклеотидов, а геном может содержать от 10^6 нуклеотидов у простейших организмов. При этом учёные могут получать информацию только о ридах (в силу размера последовательностей) физическим путем (метод секвенирования)."
   ]
  },
  {
   "cell_type": "markdown",
   "metadata": {},
   "source": [
    "#### Решение\n",
    "Решение этой задачи очень простое после решения предыдущей задачи. Построим граф G, где вершинами будут являться суффиксы и префиксы длины l−1 всех ридов. Получили подграф графа де Брюина (4,l−1) (подграф, так как в нём есть не обязательно все 4l−1 вершины), где каждому ребру соответствует рид. Найдём в нём эйлеров путь. Он существует, так как на геном было наложено условие о том, что все его подстроки длины l входят в наше множество ридов. Этот путь является возможным ответом. Очевидно, что единственно верный ответ (коим является реальный геном реального существа) получить можно не всегда, так как не всегда в графе есть единственный эйлеров путь."
   ]
  },
  {
   "cell_type": "markdown",
   "metadata": {},
   "source": [
    "##### Проще \n",
    "\n",
    "Во время сборки графа Де Брёйна риды разбиваются на более мелкие фрагменты заданного размера k. Затем k-меры используются в качестве узлов в сборке графа. Узлы, которые частично перекрываются (обычно k-1), затем соединяются ребром. Затем ассемблер строит последовательности на основе графа Де Брёйна."
   ]
  },
  {
   "cell_type": "code",
   "execution_count": null,
   "metadata": {},
   "outputs": [],
   "source": []
  },
  {
   "cell_type": "code",
   "execution_count": null,
   "metadata": {},
   "outputs": [],
   "source": []
  },
  {
   "cell_type": "code",
   "execution_count": 54,
   "metadata": {},
   "outputs": [],
   "source": [
    "\n",
    "from collections import defaultdict\n",
    "import sys\n",
    "import typing\n",
    "from typing import List, Union\n",
    "import random\n",
    "import copy\n",
    "\n"
   ]
  },
  {
   "cell_type": "code",
   "execution_count": 11,
   "metadata": {},
   "outputs": [
    {
     "name": "stdout",
     "output_type": "stream",
     "text": [
      "Requirement already satisfied: biopython in /Users/elenavasilieva/opt/anaconda3/lib/python3.7/site-packages (1.78)\n",
      "Requirement already satisfied: numpy in /Users/elenavasilieva/opt/anaconda3/lib/python3.7/site-packages (from biopython) (1.20.1)\n",
      "Note: you may need to restart the kernel to use updated packages.\n"
     ]
    }
   ],
   "source": [
    "pip install biopython"
   ]
  },
  {
   "cell_type": "code",
   "execution_count": 37,
   "metadata": {},
   "outputs": [],
   "source": [
    "#здесь строчку разбиваем на К-меры \n",
    "def kmers(string,k) -> str:\n",
    "    for i in range(len(string) - k + 1):\n",
    "        yield string[i:i+k]\n",
    "\n"
   ]
  },
  {
   "cell_type": "code",
   "execution_count": null,
   "metadata": {},
   "outputs": [],
   "source": []
  },
  {
   "cell_type": "code",
   "execution_count": 44,
   "metadata": {},
   "outputs": [],
   "source": [
    "#на входе граф записываем словарем: ключ-одна вершина, значения - вершины к которым есть ребро.\n",
    "def Tour(start:str, graph:defaultdict, end: Union[str, None] =None) -> List[str]: \n",
    "    \n",
    "    tour = [start] \n",
    "\n",
    "    if end is None:\n",
    "        finish = start\n",
    "    else:\n",
    "        finish = end\n",
    "    while True:\n",
    "        if tour[-1] not in graph.keys():\n",
    "            break\n",
    "\n",
    "        nodes = graph[tour[-1]]\n",
    "        if not nodes: #последовательность узлов-не эйлеров путь\n",
    "            break\n",
    "            \n",
    "        tour.append(nodes.pop())\n",
    "        if tour[-1] == finish: # эйлеров путь\n",
    "            break\n",
    "  #print(len(tour))\n",
    "        offset = 0\n",
    "        for i,step in enumerate(tour):\n",
    "            try:\n",
    "                nodes = graph[step]\n",
    "                #print(nodes)\n",
    "                if nodes: \n",
    "                    \n",
    "                    tour_ = Tour(nodes.pop(), graph, step) #generate a subtour\n",
    "                    i += offset\n",
    "                    tour = tour[ : i + 1 ] + tour_ + tour[ i + 1 : ]\n",
    "                    offset += len(tour_)\n",
    "                    print(\"-----------\")\n",
    "                    \n",
    "\n",
    "            except:\n",
    "                #print(\"Oops\")\n",
    "                continue\n",
    "            \n",
    "        return tour\n",
    "\n"
   ]
  },
  {
   "cell_type": "code",
   "execution_count": 52,
   "metadata": {},
   "outputs": [],
   "source": [
    "#на входе список с К-мерами с заданной длиной\n",
    "def BuildDeBrujinGraph(reads: List[List[str]], k=25) -> defaultdict:\n",
    "    graph = defaultdict(list)\n",
    "    all_kmers = set()\n",
    "    for read in reads:\n",
    "        for kmer in kmers(read, k):\n",
    "            head = kmer[:-1]\n",
    "            tail = kmer[1:]\n",
    "            graph[head].append(tail)\n",
    "\n",
    "    return graph\n",
    "\n"
   ]
  },
  {
   "cell_type": "code",
   "execution_count": 53,
   "metadata": {},
   "outputs": [],
   "source": [
    "def BuildGenomeFromDeBrujnGraph(graph:defaultdict):\n",
    "    start = None\n",
    "    for key in list(graph.keys()):\n",
    "        if len(graph[key]) % 2 == 0 and len(graph[key]) != 0:\n",
    "            start = key\n",
    "            break\n",
    "    print(f\"START: {start}\")\n",
    "    tour = Tour(start, graph)\n",
    "    return \"\".join([tour[0]] + [s[-1] for s in tour[1:]])"
   ]
  },
  {
   "cell_type": "code",
   "execution_count": null,
   "metadata": {},
   "outputs": [],
   "source": []
  },
  {
   "cell_type": "code",
   "execution_count": null,
   "metadata": {},
   "outputs": [],
   "source": []
  }
 ],
 "metadata": {
  "kernelspec": {
   "display_name": "Python 3",
   "language": "python",
   "name": "python3"
  },
  "language_info": {
   "codemirror_mode": {
    "name": "ipython",
    "version": 3
   },
   "file_extension": ".py",
   "mimetype": "text/x-python",
   "name": "python",
   "nbconvert_exporter": "python",
   "pygments_lexer": "ipython3",
   "version": "3.7.4"
  }
 },
 "nbformat": 4,
 "nbformat_minor": 5
}
